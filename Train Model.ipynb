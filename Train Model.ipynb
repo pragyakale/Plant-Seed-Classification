{
 "cells": [
  {
   "cell_type": "code",
   "execution_count": 1,
   "metadata": {},
   "outputs": [
    {
     "name": "stderr",
     "output_type": "stream",
     "text": [
      "Using TensorFlow backend.\n"
     ]
    }
   ],
   "source": [
    "from keras.preprocessing.image import ImageDataGenerator\n",
    "from keras.applications.vgg16 import VGG16, preprocess_input\n",
    "from keras.layers import Dense, GlobalAveragePooling2D, Flatten\n",
    "from keras.models import Model, model_from_json\n",
    "import os\n",
    "import matplotlib.pyplot as plt\n",
    "import glob\n",
    "import numpy as np"
   ]
  },
  {
   "cell_type": "code",
   "execution_count": 2,
   "metadata": {},
   "outputs": [],
   "source": [
    "# dimensions of our images.\n",
    "img_width, img_height = 64, 64\n",
    "\n",
    "#Location of the images\n",
    "train_data_dir = '../train'\n",
    "val_data_dir = '../validation'\n",
    "nb_epochs = 8\n",
    "batch_size = 16\n",
    "FC_SIZE = 256\n",
    "NB_IV3_LAYERS_TO_FREEZE = 172\n",
    "\n",
    "input_shape = (img_width, img_height, 3)"
   ]
  },
  {
   "cell_type": "code",
   "execution_count": 3,
   "metadata": {},
   "outputs": [],
   "source": [
    "def get_no_files(dir):\n",
    "    if not os.path.exists(dir):\n",
    "        print(\"Error: Invalid directory\")\n",
    "        #TO DO: Error Handling\n",
    "        return 0\n",
    "    count = 0\n",
    "    for r, dirs, files in os.walk(dir):\n",
    "        for dr in dirs:\n",
    "            count += len(glob.glob(os.path.join(r, dr + \"/*\")))\n",
    "    return count"
   ]
  },
  {
   "cell_type": "code",
   "execution_count": 4,
   "metadata": {},
   "outputs": [],
   "source": [
    "def freeze_all_layers(base_model):\n",
    "    for layer in base_model.layers:\n",
    "        layer.trainable=False\n",
    "    "
   ]
  },
  {
   "cell_type": "code",
   "execution_count": 5,
   "metadata": {},
   "outputs": [],
   "source": [
    "def add_new_last_layer(base_model, nb_classes):\n",
    "    x = base_model.output\n",
    "    #x = GlobalAveragePooling2D()(x)\n",
    "    x = Flatten()(x)\n",
    "    x = Dense(FC_SIZE, activation='elu')(x) #new FC layer, random init\n",
    "    x = Dense(FC_SIZE, activation='elu')(x)\n",
    "    predictions = Dense(nb_classes, activation='softmax')(x) #new softmax layer\n",
    "    model = Model(inputs=base_model.input, outputs=predictions)\n",
    "    return model    "
   ]
  },
  {
   "cell_type": "code",
   "execution_count": 6,
   "metadata": {},
   "outputs": [
    {
     "name": "stdout",
     "output_type": "stream",
     "text": [
      "Found 4630 images belonging to 12 classes.\n",
      "Found 120 images belonging to 12 classes.\n"
     ]
    }
   ],
   "source": [
    "\n",
    "nb_train_samples = get_no_files(train_data_dir)\n",
    "nb_classes = len(glob.glob(train_data_dir + \"/*\"))\n",
    "nb_val_samples = get_no_files(val_data_dir)\n",
    "nb_epochs = int(nb_epochs)\n",
    "batch_size = int(batch_size)\n",
    "\n",
    "# data prep\n",
    "train_datagen =  ImageDataGenerator()\n",
    "val_datagen = ImageDataGenerator(\n",
    "    \"\"\"preprocessing_function=preprocess_input,\n",
    "    rotation_range=30,\n",
    "    width_shift_range=0.2,\n",
    "    height_shift_range=0.2,\n",
    "    shear_range=0.2,\n",
    "    zoom_range=0.2,\n",
    "    horizontal_flip=True\"\"\"\n",
    ")\n",
    "\n",
    "train_generator = train_datagen.flow_from_directory(\n",
    "    train_data_dir,\n",
    "    target_size=(img_width, img_height),\n",
    "    batch_size=batch_size,\n",
    ")\n",
    "\n",
    "validation_generator = val_datagen.flow_from_directory(\n",
    "    val_data_dir,\n",
    "    target_size=(img_width, img_height),\n",
    "    batch_size=batch_size,\n",
    ")\n",
    "\n"
   ]
  },
  {
   "cell_type": "code",
   "execution_count": 8,
   "metadata": {},
   "outputs": [
    {
     "name": "stdout",
     "output_type": "stream",
     "text": [
      "_________________________________________________________________\n",
      "Layer (type)                 Output Shape              Param #   \n",
      "=================================================================\n",
      "input_2 (InputLayer)         (None, 64, 64, 3)         0         \n",
      "_________________________________________________________________\n",
      "block1_conv1 (Conv2D)        (None, 64, 64, 64)        1792      \n",
      "_________________________________________________________________\n",
      "block1_conv2 (Conv2D)        (None, 64, 64, 64)        36928     \n",
      "_________________________________________________________________\n",
      "block1_pool (MaxPooling2D)   (None, 32, 32, 64)        0         \n",
      "_________________________________________________________________\n",
      "block2_conv1 (Conv2D)        (None, 32, 32, 128)       73856     \n",
      "_________________________________________________________________\n",
      "block2_conv2 (Conv2D)        (None, 32, 32, 128)       147584    \n",
      "_________________________________________________________________\n",
      "block2_pool (MaxPooling2D)   (None, 16, 16, 128)       0         \n",
      "_________________________________________________________________\n",
      "block3_conv1 (Conv2D)        (None, 16, 16, 256)       295168    \n",
      "_________________________________________________________________\n",
      "block3_conv2 (Conv2D)        (None, 16, 16, 256)       590080    \n",
      "_________________________________________________________________\n",
      "block3_conv3 (Conv2D)        (None, 16, 16, 256)       590080    \n",
      "_________________________________________________________________\n",
      "block3_pool (MaxPooling2D)   (None, 8, 8, 256)         0         \n",
      "_________________________________________________________________\n",
      "block4_conv1 (Conv2D)        (None, 8, 8, 512)         1180160   \n",
      "_________________________________________________________________\n",
      "block4_conv2 (Conv2D)        (None, 8, 8, 512)         2359808   \n",
      "_________________________________________________________________\n",
      "block4_conv3 (Conv2D)        (None, 8, 8, 512)         2359808   \n",
      "_________________________________________________________________\n",
      "block4_pool (MaxPooling2D)   (None, 4, 4, 512)         0         \n",
      "_________________________________________________________________\n",
      "block5_conv1 (Conv2D)        (None, 4, 4, 512)         2359808   \n",
      "_________________________________________________________________\n",
      "block5_conv2 (Conv2D)        (None, 4, 4, 512)         2359808   \n",
      "_________________________________________________________________\n",
      "block5_conv3 (Conv2D)        (None, 4, 4, 512)         2359808   \n",
      "_________________________________________________________________\n",
      "block5_pool (MaxPooling2D)   (None, 2, 2, 512)         0         \n",
      "_________________________________________________________________\n",
      "flatten_2 (Flatten)          (None, 2048)              0         \n",
      "_________________________________________________________________\n",
      "dense_4 (Dense)              (None, 256)               524544    \n",
      "_________________________________________________________________\n",
      "dense_5 (Dense)              (None, 256)               65792     \n",
      "_________________________________________________________________\n",
      "dense_6 (Dense)              (None, 12)                3084      \n",
      "=================================================================\n",
      "Total params: 15,308,108\n",
      "Trainable params: 593,420\n",
      "Non-trainable params: 14,714,688\n",
      "_________________________________________________________________\n",
      "Epoch 1/8\n",
      "288/289 [============================>.] - ETA: 1s - loss: 2.7081 - acc: 0.4552"
     ]
    },
    {
     "name": "stderr",
     "output_type": "stream",
     "text": [
      "/home/pragya/.local/lib/python2.7/site-packages/keras/preprocessing/image.py:506: UserWarning: This ImageDataGenerator specifies `featurewise_center`, but it hasn'tbeen fit on any training data. Fit it first by calling `.fit(numpy_data)`.\n",
      "  warnings.warn('This ImageDataGenerator specifies '\n"
     ]
    },
    {
     "name": "stdout",
     "output_type": "stream",
     "text": [
      "289/289 [==============================] - 515s - loss: 2.7027 - acc: 0.4555 - val_loss: 2.3344 - val_acc: 0.4018\n",
      "Epoch 2/8\n",
      "289/289 [==============================] - 506s - loss: 1.1213 - acc: 0.6515 - val_loss: 1.7433 - val_acc: 0.5000\n",
      "Epoch 3/8\n",
      "289/289 [==============================] - 494s - loss: 0.7319 - acc: 0.7547 - val_loss: 1.7578 - val_acc: 0.4808\n",
      "Epoch 4/8\n",
      "289/289 [==============================] - 496s - loss: 0.5436 - acc: 0.8101 - val_loss: 1.7825 - val_acc: 0.5865\n",
      "Epoch 5/8\n",
      "289/289 [==============================] - 496s - loss: 0.4448 - acc: 0.8470 - val_loss: 1.6828 - val_acc: 0.5962\n",
      "Epoch 6/8\n",
      "289/289 [==============================] - 496s - loss: 0.3636 - acc: 0.8816 - val_loss: 2.2709 - val_acc: 0.5288\n",
      "Epoch 7/8\n",
      "289/289 [==============================] - 495s - loss: 0.3321 - acc: 0.8909 - val_loss: 2.2578 - val_acc: 0.5385\n",
      "Epoch 8/8\n",
      "289/289 [==============================] - 496s - loss: 0.3067 - acc: 0.9005 - val_loss: 2.5950 - val_acc: 0.5577\n"
     ]
    }
   ],
   "source": [
    "# setup model\n",
    "base_model = VGG16(weights='imagenet', input_shape=input_shape, include_top=False) #include_top=False excludes final FC layer\n",
    "freeze_all_layers(base_model)\n",
    "model = add_new_last_layer(base_model, nb_classes)\n",
    "\n",
    "# transfer learning\n",
    "\n",
    "model.compile(optimizer='adam', loss='categorical_crossentropy', metrics=['accuracy'])\n",
    "model.summary()\n",
    "\n",
    "\"\"\"history_tl = model.fit_generator(\n",
    "    train_generator,\n",
    "    nb_epoch=nb_epochs,\n",
    "    steps_per_epoch=None,\n",
    "    validation_data=validation_generator,\n",
    "    nb_val_samples=nb_val_samples,\n",
    "    class_weight='auto') \n",
    "\"\"\"\n",
    "history_tl = model.fit_generator( \n",
    "                                 train_generator, \n",
    "                                 steps_per_epoch=int(nb_train_samples/batch_size), \n",
    "                                 epochs=nb_epochs, \n",
    "                                 validation_data=validation_generator, \n",
    "                                 validation_steps=int(nb_val_samples/batch_size))"
   ]
  },
  {
   "cell_type": "code",
   "execution_count": 9,
   "metadata": {},
   "outputs": [
    {
     "name": "stdout",
     "output_type": "stream",
     "text": [
      "Saved model to disk\n"
     ]
    }
   ],
   "source": [
    "#Save the model\n",
    "\n",
    "# serialize model to JSON\n",
    "model_json = model.to_json()\n",
    "with open(\"plantSeed.json\", \"w\") as json_file:\n",
    "    json_file.write(model_json)\n",
    "# serialize weights to HDF5\n",
    "model.save_weights(\"plantSeed.h5\")\n",
    "print(\"Saved model to disk\")"
   ]
  },
  {
   "cell_type": "code",
   "execution_count": 10,
   "metadata": {},
   "outputs": [
    {
     "name": "stdout",
     "output_type": "stream",
     "text": [
      "Loaded model from disk\n"
     ]
    }
   ],
   "source": [
    "# load json and create model\n",
    "json_file = open('plantSeed.json', 'r')\n",
    "loaded_model_json = json_file.read()\n",
    "json_file.close()\n",
    "model = model_from_json(loaded_model_json)\n",
    "# load weights into new model\n",
    "model.load_weights(\"plantSeed.h5\")\n",
    "print(\"Loaded model from disk\")"
   ]
  },
  {
   "cell_type": "code",
   "execution_count": 11,
   "metadata": {},
   "outputs": [
    {
     "data": {
      "image/png": "[encoded data removed]",
      "text/plain": [
       "<matplotlib.figure.Figure at 0x7f8794189dd0>"
      ]
     },
     "metadata": {},
     "output_type": "display_data"
    },
    {
     "data": {
      "image/png": "[encoded data removed]",
      "text/plain": [
       "<matplotlib.figure.Figure at 0x7f879409a850>"
      ]
     },
     "metadata": {},
     "output_type": "display_data"
    }
   ],
   "source": [
    "h=history_tl\n",
    "\n",
    "plt.figure(0)\n",
    "plt.plot(h.history['acc'],'r')\n",
    "plt.plot(h.history['val_acc'],'g')\n",
    "plt.xticks(np.arange(0, 80, 10.0))\n",
    "plt.rcParams['figure.figsize'] = (8, 6)\n",
    "plt.xlabel(\"Num of Epochs\")\n",
    "plt.ylabel(\"Accuracy\")\n",
    "plt.title(\"Training Accuracy vs Validation Accuracy\")\n",
    "plt.legend(['train','validation'])\n",
    " \n",
    " \n",
    "plt.figure(1)\n",
    "plt.plot(h.history['loss'],'r')\n",
    "plt.plot(h.history['val_loss'],'g')\n",
    "plt.xticks(np.arange(0, 1, 0.10))\n",
    "plt.rcParams['figure.figsize'] = (8, 6)\n",
    "plt.xlabel(\"Num of Epochs\")\n",
    "plt.ylabel(\"Loss\")\n",
    "plt.title(\"Training Loss vs Validation Loss\")\n",
    "plt.legend(['train','validation'])\n",
    " \n",
    " \n",
    "plt.show()"
   ]
  }
 ],
 "metadata": {
  "kernelspec": {
   "display_name": "Python 3",
   "language": "python",
   "name": "python3"
  },
  "language_info": {
   "codemirror_mode": {
    "name": "ipython",
    "version": 2
   },
   "file_extension": ".py",
   "mimetype": "text/x-python",
   "name": "python",
   "nbconvert_exporter": "python",
   "pygments_lexer": "ipython2",
   "version": "2.7.13"
  }
 },
 "nbformat": 4,
 "nbformat_minor": 2
}
