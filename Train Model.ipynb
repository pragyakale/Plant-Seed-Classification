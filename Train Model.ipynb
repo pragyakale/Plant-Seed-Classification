{
 "cells": [
  {
   "cell_type": "code",
   "execution_count": 1,
   "metadata": {},
   "outputs": [
    {
     "name": "stderr",
     "output_type": "stream",
     "text": [
      "Using TensorFlow backend.\n"
     ]
    }
   ],
   "source": [
    "from keras.preprocessing.image import ImageDataGenerator\n",
    "from keras.applications.vgg16 import VGG16, preprocess_input\n",
    "from keras.layers import Dense, GlobalAveragePooling2D, Flatten, BatchNormalization,Dropout\n",
    "from keras.models import Model, model_from_json\n",
    "import os\n",
    "import matplotlib.pyplot as plt\n",
    "import glob\n",
    "import numpy as np\n",
    "import cv2\n",
    "from keras.utils import to_categorical"
   ]
  },
  {
   "cell_type": "code",
   "execution_count": 2,
   "metadata": {},
   "outputs": [],
   "source": [
    "# dimensions of our images.\n",
    "img_width, img_height = 64, 64\n",
    "\n",
    "#Location of the images\n",
    "train_data_dir = \"/home/pragya/Kaggle/Plant Seedlings Classification/train\"\n",
    "val_data_dir = \"/home/pragya/Kaggle/Plant Seedlings Classification/validation\"\n",
    "nb_epochs = 24\n",
    "batch_size = 8\n",
    "FC_SIZE = 256\n",
    "NB_IV3_LAYERS_TO_FREEZE = 172\n",
    "\n",
    "input_shape = (img_width, img_height, 3)"
   ]
  },
  {
   "cell_type": "code",
   "execution_count": 3,
   "metadata": {},
   "outputs": [],
   "source": [
    "def get_no_files(dir):\n",
    "    if not os.path.exists(dir):\n",
    "        print(\"Error: Invalid directory\")\n",
    "        #TO DO: Error Handling\n",
    "        return 0\n",
    "    count = 0\n",
    "    for r, dirs, files in os.walk(dir):\n",
    "        for dr in dirs:\n",
    "            count += len(glob.glob(os.path.join(r, dr + \"/*\")))\n",
    "    return count"
   ]
  },
  {
   "cell_type": "code",
   "execution_count": 4,
   "metadata": {},
   "outputs": [],
   "source": [
    "def freeze_all_layers(base_model):\n",
    "    for layer in base_model.layers:\n",
    "        layer.trainable=False\n",
    "    "
   ]
  },
  {
   "cell_type": "code",
   "execution_count": 5,
   "metadata": {},
   "outputs": [],
   "source": [
    "def add_new_last_layer(base_model, nb_classes):\n",
    "    x = base_model.output\n",
    "    #x = GlobalAveragePooling2D()(x)\n",
    "    x = Dropout(0.5)(x)\n",
    "    x = Flatten()(x)\n",
    "    x = Dense(FC_SIZE, activation='elu')(x) #new FC layer, random init\n",
    "    x = Dense(FC_SIZE, activation='elu')(x)\n",
    "    x = BatchNormalization()(x)\n",
    "    predictions = Dense(nb_classes, activation='softmax')(x) #new softmax layer\n",
    "    model = Model(inputs=base_model.input, outputs=predictions)\n",
    "    return model    "
   ]
  },
  {
   "cell_type": "code",
   "execution_count": 6,
   "metadata": {},
   "outputs": [],
   "source": [
    "def image_to_dataset(add,rows,cols):\n",
    "    \"\"\" Returns:\n",
    "        x_train: numpy array of images as [#images,rows,cols,#channels]\n",
    "        y_train: numpy array of lables as [#images,1]\n",
    "    \"\"\"\n",
    "    if not os.path.exists(add):\n",
    "        print(\"Error: Invalid directory\")\n",
    "        return 0\n",
    "    for path , dirname , filenames in os.walk(add):\n",
    "        if dirname:\n",
    "            classes = dirname\n",
    "        if filenames:\n",
    "            print(\"Getting data from: \" + path)\n",
    "            for imagename in filenames:\n",
    "                img = cv2.imread(path + \"/\" + imagename, cv2.IMREAD_COLOR)#img_to_array(load_img(path + \"/\" + imagename, target_size=(rows, cols)))\n",
    "                img = cv2.resize(img,(rows,cols))\n",
    "                #print(img.shape)\n",
    "                img = np.expand_dims(img, axis = 0)\n",
    "                if 'x_train' in locals():\n",
    "                    x_train = np.append(x_train, img, axis = 0)\n",
    "                    b = np.zeros((1,1))\n",
    "                    b[0,0] = classes.index(os.path.basename(path))\n",
    "                    y_train = np.append(y_train, b, axis = 0)\n",
    "                else:\n",
    "                    x_train = img\n",
    "                    y_train = np.zeros((1,1))\n",
    "                    y_train[0,0] = np.array([int(classes.index(os.path.basename(path)))])\n",
    "    return x_train, y_train.astype(int), classes"
   ]
  },
  {
   "cell_type": "code",
   "execution_count": 7,
   "metadata": {},
   "outputs": [],
   "source": [
    "def mask(image_stack):\n",
    "    for index in range(0,image_stack.shape[0]):\n",
    "        img = image_stack[index]\n",
    "        hsv = cv2.cvtColor(img, cv2.COLOR_BGR2HSV)\n",
    "\n",
    "        lower_green = np.array([30,65,0])\n",
    "        upper_green = np.array([255,255,255])\n",
    "\n",
    "        mask = cv2.inRange(hsv, lower_green, upper_green)\n",
    "        image_stack[index] = cv2.bitwise_and(img, img, mask=mask)\n",
    "    return image_stack"
   ]
  },
  {
   "cell_type": "code",
   "execution_count": null,
   "metadata": {},
   "outputs": [],
   "source": [
    "nb_train_samples = get_no_files(train_data_dir)\n",
    "nb_classes = len(glob.glob(train_data_dir + \"/*\"))\n",
    "nb_val_samples = get_no_files(val_data_dir)\n",
    "nb_epochs = int(nb_epochs)\n",
    "batch_size = int(batch_size)"
   ]
  },
  {
   "cell_type": "code",
   "execution_count": null,
   "metadata": {},
   "outputs": [
    {
     "name": "stdout",
     "output_type": "stream",
     "text": [
      "Getting data from: ../train/Common wheat\n",
      "Getting data from: ../train/Small-flowered Cranesbill\n",
      "Getting data from: ../train/Sugar beet\n"
     ]
    }
   ],
   "source": [
    "x_train,y_train,classes = image_to_dataset(\"../train\",rows = img_width,cols = img_height)\n",
    "x_val,y_val,_ = image_to_dataset(\"../validation\",rows = img_width,cols = img_height)"
   ]
  },
  {
   "cell_type": "code",
   "execution_count": null,
   "metadata": {},
   "outputs": [],
   "source": [
    "# data prep\n",
    "x_train = mask(x_train)\n",
    "x_val = mask(x_val)\n",
    "y_train = to_categorical(y_train,nb_classes)\n",
    "y_val = to_categorical(y_val,nb_classes)\n",
    "\n",
    "datagen = ImageDataGenerator(\n",
    "        featurewise_center=False,  # set input mean to 0 over the dataset\n",
    "        samplewise_center=False,  # set each sample mean to 0\n",
    "        featurewise_std_normalization=False,  # divide inputs by std of the dataset\n",
    "        samplewise_std_normalization=False,  # divide each input by its std\n",
    "        zca_whitening=False,  # apply ZCA whitening\n",
    "        rotation_range=0,  # randomly rotate images in the range (degrees, 0 to 180)\n",
    "        width_shift_range=0.1,  # randomly shift images horizontally (fraction of total width)\n",
    "        height_shift_range=0.1,  # randomly shift images vertically (fraction of total height)\n",
    "        horizontal_flip=True,  # randomly flip images\n",
    "        vertical_flip=False)  # randomly flip images\n"
   ]
  },
  {
   "cell_type": "code",
   "execution_count": null,
   "metadata": {
    "scrolled": true
   },
   "outputs": [],
   "source": [
    "# setup model\n",
    "base_model = VGG16(weights='imagenet', input_shape=input_shape, include_top=False) #include_top=False excludes final FC layer\n",
    "freeze_all_layers(base_model)\n",
    "model = add_new_last_layer(base_model, nb_classes)\n",
    "\n",
    "# transfer learning\n",
    "\n",
    "model.compile(optimizer='adam', loss='categorical_crossentropy', metrics=['accuracy'])\n",
    "\n",
    "\"\"\"history_tl = model.fit_generator(\n",
    "    train_generator,\n",
    "    nb_epoch=nb_epochs,\n",
    "    steps_per_epoch=None,\n",
    "    validation_data=validation_generator,\n",
    "    nb_val_samples=nb_val_samples,\n",
    "    class_weight='auto') \n",
    "\"\"\"\n",
    "datagen.fit(x_train)\n",
    "history_tl = model.fit_generator( \n",
    "    datagen.flow(x_train, y_train,batch_size=batch_size),\n",
    "    validation_data=(x_val,y_val), \n",
    "    steps_per_epoch=int(nb_train_samples/batch_size), \n",
    "    epochs=nb_epochs,  \n",
    "    validation_steps=int(nb_val_samples/batch_size))"
   ]
  },
  {
   "cell_type": "code",
   "execution_count": 15,
   "metadata": {},
   "outputs": [
    {
     "name": "stdout",
     "output_type": "stream",
     "text": [
      "Saved model to disk\n"
     ]
    }
   ],
   "source": [
    "#Save the model\n",
    "\n",
    "# serialize model to JSON\n",
    "model_json = model.to_json()\n",
    "with open(\"plantSeed.json\", \"w\") as json_file:\n",
    "    json_file.write(model_json)\n",
    "# serialize weights to HDF5\n",
    "model.save_weights(\"plantSeed.h5\")\n",
    "print(\"Saved model to disk\")"
   ]
  },
  {
   "cell_type": "code",
   "execution_count": 16,
   "metadata": {},
   "outputs": [
    {
     "name": "stdout",
     "output_type": "stream",
     "text": [
      "Loaded model from disk\n"
     ]
    }
   ],
   "source": [
    "# load json and create model\n",
    "json_file = open('plantSeed.json', 'r')\n",
    "loaded_model_json = json_file.read()\n",
    "json_file.close()\n",
    "model = model_from_json(loaded_model_json)\n",
    "# load weights into new model\n",
    "model.load_weights(\"plantSeed.h5\")\n",
    "print(\"Loaded model from disk\")"
   ]
  },
  {
   "cell_type": "code",
   "execution_count": 17,
   "metadata": {},
   "outputs": [
    {
     "data": {
      "image/png": "[encoded data removed]",
      "text/plain": [
       "<matplotlib.figure.Figure at 0x7f2a7b70f3d0>"
      ]
     },
     "metadata": {},
     "output_type": "display_data"
    },
    {
     "data": {
      "image/png": "[encoded data removed]",
      "text/plain": [
       "<matplotlib.figure.Figure at 0x7f2a780af910>"
      ]
     },
     "metadata": {},
     "output_type": "display_data"
    }
   ],
   "source": [
    "h=history_tl\n",
    "\n",
    "plt.figure(0)\n",
    "plt.plot(h.history['acc'],'r')\n",
    "plt.plot(h.history['val_acc'],'g')\n",
    "plt.xticks(np.arange(0, 80, 10.0))\n",
    "plt.rcParams['figure.figsize'] = (8, 6)\n",
    "plt.xlabel(\"Num of Epochs\")\n",
    "plt.ylabel(\"Accuracy\")\n",
    "plt.title(\"Training Accuracy vs Validation Accuracy\")\n",
    "plt.legend(['train','validation'])\n",
    " \n",
    " \n",
    "plt.figure(1)\n",
    "plt.plot(h.history['loss'],'r')\n",
    "plt.plot(h.history['val_loss'],'g')\n",
    "plt.xticks(np.arange(0, 80, 10.0))\n",
    "plt.rcParams['figure.figsize'] = (8, 6)\n",
    "plt.xlabel(\"Num of Epochs\")\n",
    "plt.ylabel(\"Loss\")\n",
    "plt.title(\"Training Loss vs Validation Loss\")\n",
    "plt.legend(['train','validation'])\n",
    " \n",
    " \n",
    "plt.show()"
   ]
  }
 ],
 "metadata": {
  "kernelspec": {
   "display_name": "Python 3",
   "language": "python",
   "name": "python3"
  },
  "language_info": {
   "codemirror_mode": {
    "name": "ipython",
    "version": 2
   },
   "file_extension": ".py",
   "mimetype": "text/x-python",
   "name": "python",
   "nbconvert_exporter": "python",
   "pygments_lexer": "ipython2",
   "version": "2.7.13"
  }
 },
 "nbformat": 4,
 "nbformat_minor": 2
}
